{
  "nbformat": 4,
  "nbformat_minor": 0,
  "metadata": {
    "colab": {
      "provenance": []
    },
    "kernelspec": {
      "name": "python3",
      "display_name": "Python 3"
    },
    "language_info": {
      "name": "python"
    }
  },
  "cells": [
    {
      "cell_type": "markdown",
      "source": [
        "# Python 2年生 スクレイピングのしくみ (How scraping works)\n",
        "\n",
        "Chapter 3\n",
        "\n",
        "## Lesson 08 pandasを使ってみよう (Let's use pandas)"
      ],
      "metadata": {
        "id": "0SY0yNGIaMaJ"
      }
    },
    {
      "cell_type": "code",
      "execution_count": 1,
      "metadata": {
        "id": "M5ZBZrDIaJDp",
        "colab": {
          "base_uri": "https://localhost:8080/"
        },
        "outputId": "7534cbe8-477d-418f-c647-a32c7d0b7f26"
      },
      "outputs": [
        {
          "output_type": "stream",
          "name": "stdout",
          "text": [
            "   名前   国語  数学  英語  理科  社会\n",
            "0  A太   83  89  76  97  76\n",
            "1  B介   66  93  75  88  76\n",
            "2  C子  100  84  96  82  94\n",
            "3  D郎   60  73  63  52  70\n",
            "4  E美   92  62  84  80  78\n",
            "5  F菜   96  92  94  92  90\n"
          ]
        }
      ],
      "source": [
        "import pandas as pd\n",
        "\n",
        "# Import CSV files\n",
        "df = pd.read_csv(\"test.csv\")\n",
        "print(df)"
      ]
    },
    {
      "cell_type": "code",
      "source": [
        "# Display table data information\n",
        "print(\"データの件数 =\",len(df))\n",
        "print(\"項目名       =\",df.columns.values)\n",
        "print(\"インデックス=\",df.index.values)"
      ],
      "metadata": {
        "colab": {
          "base_uri": "https://localhost:8080/"
        },
        "id": "LAmYujSaWrN_",
        "outputId": "0f039e79-ab5f-46b6-d858-5372f1b8016e"
      },
      "execution_count": 2,
      "outputs": [
        {
          "output_type": "stream",
          "name": "stdout",
          "text": [
            "データの件数 = 6\n",
            "項目名       = ['名前' '国語' '数学' '英語' '理科' '社会']\n",
            "インデックス= [0 1 2 3 4 5]\n"
          ]
        }
      ]
    },
    {
      "cell_type": "code",
      "source": [
        "# Display 1 data\n",
        "print(\"国語の列データ\\n\",df[\"国語\"])\n",
        "\n",
        "# Display multiple columns of data\n",
        "print(\"国語と数学の列データ\\n\",df[[\"国語\",\"数学\"]])"
      ],
      "metadata": {
        "colab": {
          "base_uri": "https://localhost:8080/"
        },
        "id": "yvVATFslW23i",
        "outputId": "b8ef74a2-9b22-4844-a24a-f6cace45c47a"
      },
      "execution_count": 3,
      "outputs": [
        {
          "output_type": "stream",
          "name": "stdout",
          "text": [
            "国語の列データ\n",
            " 0     83\n",
            "1     66\n",
            "2    100\n",
            "3     60\n",
            "4     92\n",
            "5     96\n",
            "Name: 国語, dtype: int64\n",
            "国語と数学の列データ\n",
            "     国語  数学\n",
            "0   83  89\n",
            "1   66  93\n",
            "2  100  84\n",
            "3   60  73\n",
            "4   92  62\n",
            "5   96  92\n"
          ]
        }
      ]
    },
    {
      "cell_type": "code",
      "source": [
        "# Display one line of data\n",
        "print(\"C子のデータ\\n\",df.loc[2])\n",
        "\n",
        "# Display multiple rows of data\n",
        "print(\"C子とD郎のデータ\\n\",df.loc[[2,3]])\n",
        "\n",
        "# Displays data for a specified column in a specified row\n",
        "print(\"C子の国語データ\\n\",df.loc[2][\"国語\"])"
      ],
      "metadata": {
        "colab": {
          "base_uri": "https://localhost:8080/"
        },
        "id": "q4opmNHnXFU0",
        "outputId": "a8d17bbf-7174-4827-fe3e-a82b88e18eb8"
      },
      "execution_count": 4,
      "outputs": [
        {
          "output_type": "stream",
          "name": "stdout",
          "text": [
            "C子のデータ\n",
            " 名前     C子\n",
            "国語    100\n",
            "数学     84\n",
            "英語     96\n",
            "理科     82\n",
            "社会     94\n",
            "Name: 2, dtype: object\n",
            "C子とD郎のデータ\n",
            "    名前   国語  数学  英語  理科  社会\n",
            "2  C子  100  84  96  82  94\n",
            "3  D郎   60  73  63  52  70\n",
            "C子の国語データ\n",
            " 100\n"
          ]
        }
      ]
    },
    {
      "cell_type": "code",
      "source": [
        "# Add one column of data\n",
        "df[\"美術\"] = [68, 73, 82, 77, 94, 96]\n",
        "print(\"列データ(美術)を追加\\n\",df)\n",
        "\n",
        "# Add 1 line of data\n",
        "df.loc[6] = [\"G恵\", 90, 92, 94, 96, 92, 98]\n",
        "print(\"行データ(G恵)を追加\\n\",df)"
      ],
      "metadata": {
        "colab": {
          "base_uri": "https://localhost:8080/"
        },
        "id": "SVwwK_9bYS5O",
        "outputId": "d950c38d-cf8b-4121-bb90-5844ecabec7a"
      },
      "execution_count": 5,
      "outputs": [
        {
          "output_type": "stream",
          "name": "stdout",
          "text": [
            "列データ(美術)を追加\n",
            "    名前   国語  数学  英語  理科  社会  美術\n",
            "0  A太   83  89  76  97  76  68\n",
            "1  B介   66  93  75  88  76  73\n",
            "2  C子  100  84  96  82  94  82\n",
            "3  D郎   60  73  63  52  70  77\n",
            "4  E美   92  62  84  80  78  94\n",
            "5  F菜   96  92  94  92  90  96\n",
            "行データ(G恵)を追加\n",
            "    名前   国語  数学  英語  理科  社会  美術\n",
            "0  A太   83  89  76  97  76  68\n",
            "1  B介   66  93  75  88  76  73\n",
            "2  C子  100  84  96  82  94  82\n",
            "3  D郎   60  73  63  52  70  77\n",
            "4  E美   92  62  84  80  78  94\n",
            "5  F菜   96  92  94  92  90  96\n",
            "6  G恵   90  92  94  96  92  98\n"
          ]
        }
      ]
    },
    {
      "cell_type": "code",
      "source": [
        "# Delete “Name” column\n",
        "print(\"「名前」の列を削除\\n\", df.drop(\"名前\",axis=1))\n",
        "\n",
        "# Delete 2 index rows\n",
        "print(\"インデックス2の行を削除\\n\", df.drop(2,axis=0))"
      ],
      "metadata": {
        "colab": {
          "base_uri": "https://localhost:8080/"
        },
        "id": "7rMH0M44ZNPl",
        "outputId": "6aae20e3-e238-4357-89b0-1037bd7b4a4b"
      },
      "execution_count": 6,
      "outputs": [
        {
          "output_type": "stream",
          "name": "stdout",
          "text": [
            "「名前」の列を削除\n",
            "     国語  数学  英語  理科  社会  美術\n",
            "0   83  89  76  97  76  68\n",
            "1   66  93  75  88  76  73\n",
            "2  100  84  96  82  94  82\n",
            "3   60  73  63  52  70  77\n",
            "4   92  62  84  80  78  94\n",
            "5   96  92  94  92  90  96\n",
            "6   90  92  94  96  92  98\n",
            "インデックス2の行を削除\n",
            "    名前  国語  数学  英語  理科  社会  美術\n",
            "0  A太  83  89  76  97  76  68\n",
            "1  B介  66  93  75  88  76  73\n",
            "3  D郎  60  73  63  52  70  77\n",
            "4  E美  92  62  84  80  78  94\n",
            "5  F菜  96  92  94  92  90  96\n",
            "6  G恵  90  92  94  96  92  98\n"
          ]
        }
      ]
    }
  ]
}