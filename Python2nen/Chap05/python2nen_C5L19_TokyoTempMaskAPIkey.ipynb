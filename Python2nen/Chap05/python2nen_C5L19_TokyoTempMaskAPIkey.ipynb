{
  "nbformat": 4,
  "nbformat_minor": 0,
  "metadata": {
    "colab": {
      "provenance": []
    },
    "kernelspec": {
      "name": "python3",
      "display_name": "Python 3"
    },
    "language_info": {
      "name": "python"
    }
  },
  "cells": [
    {
      "cell_type": "markdown",
      "source": [
        "# Python 2年生 スクレイピングのしくみ (How scraping works)\n",
        "\n",
        "Chapter 5\n",
        "\n",
        "## Lesson 19 現在の天気を調べよう (Let's check the current weather)"
      ],
      "metadata": {
        "id": "AnpLj5PW0I-C"
      }
    },
    {
      "cell_type": "markdown",
      "source": [
        "Data:\n",
        "\n",
        "OpenWeatherMap\n",
        "\n",
        "https://openweathermap.org/api"
      ],
      "metadata": {
        "id": "fyIfPQPz8ud-"
      }
    },
    {
      "cell_type": "code",
      "execution_count": null,
      "metadata": {
        "colab": {
          "base_uri": "https://localhost:8080/"
        },
        "id": "Nojgp7EI0DEz",
        "outputId": "ec67608c-be17-4b3c-a0c5-fc7a64441b6c"
      },
      "outputs": [
        {
          "output_type": "stream",
          "name": "stdout",
          "text": [
            "今日は{key1}です。明日は{key2}です。\n",
            "今日は晴れです。明日は曇りです。\n"
          ]
        }
      ],
      "source": [
        "ans = \"今日は{key1}です。明日は{key2}です。\"\n",
        "print(ans)\n",
        "\n",
        "ans = ans.format(key1=\"晴れ\", key2=\"曇り\")\n",
        "print(ans)"
      ]
    },
    {
      "cell_type": "code",
      "source": [
        "import requests\n",
        "import json\n",
        "from pprint import pprint"
      ],
      "metadata": {
        "id": "GhBuXvPx0215"
      },
      "execution_count": null,
      "outputs": []
    },
    {
      "cell_type": "code",
      "source": [
        "# Get current turning point: Kobe\n",
        "url = \"http://api.openweathermap.org/data/2.5/weather?q={city}&appid={key}&lang=ja&units=metric\"\n",
        "url = url.format(city=\"kobe,JP\", key=\"API key\")\n",
        "\n",
        "jsondata = requests.get(url).json()\n",
        "print(jsondata)"
      ],
      "metadata": {
        "colab": {
          "base_uri": "https://localhost:8080/"
        },
        "id": "y7jT6DcD0gWm",
        "outputId": "5e2a38f3-73f2-41d4-eee6-0368854f5a41"
      },
      "execution_count": null,
      "outputs": [
        {
          "output_type": "stream",
          "name": "stdout",
          "text": [
            "{'coord': {'lon': 135.183, 'lat': 34.6913}, 'weather': [{'id': 800, 'main': 'Clear', 'description': '晴天', 'icon': '01n'}], 'base': 'stations', 'main': {'temp': 7.84, 'feels_like': 6.72, 'temp_min': 7.84, 'temp_max': 8.82, 'pressure': 1017, 'humidity': 75, 'sea_level': 1017, 'grnd_level': 999}, 'visibility': 10000, 'wind': {'speed': 1.95, 'deg': 342, 'gust': 2.24}, 'clouds': {'all': 5}, 'dt': 1743971840, 'sys': {'type': 1, 'id': 8032, 'country': 'JP', 'sunrise': 1743971903, 'sunset': 1744017850}, 'timezone': 32400, 'id': 1859171, 'name': '神戸市', 'cod': 200}\n"
          ]
        }
      ]
    },
    {
      "cell_type": "code",
      "source": [
        "with open(\"test2.json\", mode=\"r\") as f:\n",
        "    jsondata = json.loads(f.read())\n",
        "    pprint(jsondata)"
      ],
      "metadata": {
        "colab": {
          "base_uri": "https://localhost:8080/"
        },
        "id": "7XAyPH9k0v5U",
        "outputId": "c6c13d92-2538-4e36-ec02-e8fd043ce7d8"
      },
      "execution_count": null,
      "outputs": [
        {
          "output_type": "stream",
          "name": "stdout",
          "text": [
            "[{'coord': {'lat': 35.69, 'lon': 139.69}, 'name': 'Tokyo'},\n",
            " {'coord': {'lat': 35.02, 'lon': 135.75}, 'name': 'Kyoto'}]\n"
          ]
        }
      ]
    },
    {
      "cell_type": "code",
      "source": [
        "with open(\"test2.json\", mode=\"r\") as f:\n",
        "    jsondata = json.loads(f.read())\n",
        "    print(\"1つ目のオブジェクト = \",jsondata[0])\n",
        "    print(\"都市名 = \",jsondata[0][\"name\"])\n",
        "    print(\"経度 =\",jsondata[0][\"coord\"][\"lat\"])\n",
        "    print(\"緯度 =\",jsondata[0][\"coord\"][\"lon\"])"
      ],
      "metadata": {
        "colab": {
          "base_uri": "https://localhost:8080/"
        },
        "id": "6cMmIGiE2jxM",
        "outputId": "56768f9f-3e64-4243-bc46-b38049d1e7d9"
      },
      "execution_count": null,
      "outputs": [
        {
          "output_type": "stream",
          "name": "stdout",
          "text": [
            "1つ目のオブジェクト =  {'name': 'Tokyo', 'coord': {'lat': 35.69, 'lon': 139.69}}\n",
            "都市名 =  Tokyo\n",
            "経度 = 35.69\n",
            "緯度 = 139.69\n"
          ]
        }
      ]
    },
    {
      "cell_type": "code",
      "source": [
        "# Extract individual data from Kobe's JSON\n",
        "jsondata = requests.get(url).json()\n",
        "pprint(jsondata)"
      ],
      "metadata": {
        "colab": {
          "base_uri": "https://localhost:8080/"
        },
        "id": "nfmYZQlo3CzQ",
        "outputId": "16fe5927-3ec4-4329-8f5f-10611053281d"
      },
      "execution_count": null,
      "outputs": [
        {
          "output_type": "stream",
          "name": "stdout",
          "text": [
            "{'base': 'stations',\n",
            " 'clouds': {'all': 5},\n",
            " 'cod': 200,\n",
            " 'coord': {'lat': 34.6913, 'lon': 135.183},\n",
            " 'dt': 1743972528,\n",
            " 'id': 1859171,\n",
            " 'main': {'feels_like': 6.72,\n",
            "          'grnd_level': 999,\n",
            "          'humidity': 75,\n",
            "          'pressure': 1017,\n",
            "          'sea_level': 1017,\n",
            "          'temp': 7.84,\n",
            "          'temp_max': 8.82,\n",
            "          'temp_min': 7.84},\n",
            " 'name': '神戸市',\n",
            " 'sys': {'country': 'JP',\n",
            "         'id': 8032,\n",
            "         'sunrise': 1743971903,\n",
            "         'sunset': 1744017850,\n",
            "         'type': 1},\n",
            " 'timezone': 32400,\n",
            " 'visibility': 10000,\n",
            " 'weather': [{'description': '晴天', 'icon': '01d', 'id': 800, 'main': 'Clear'}],\n",
            " 'wind': {'deg': 342, 'gust': 2.24, 'speed': 1.95}}\n"
          ]
        }
      ]
    },
    {
      "cell_type": "code",
      "source": [
        "jsondata = requests.get(url).json()\n",
        "print(\"都市名 = \", jsondata[\"name\"])\n",
        "print(\"気温 = \", jsondata[\"main\"][\"temp\"])\n",
        "print(\"天気 = \", jsondata[\"weather\"][0][\"main\"])\n",
        "print(\"天気詳細 = \", jsondata[\"weather\"][0][\"description\"])"
      ],
      "metadata": {
        "colab": {
          "base_uri": "https://localhost:8080/"
        },
        "id": "nHXiSDfu326V",
        "outputId": "0c7c94e9-98c4-4cb0-8a2c-04f84db5b51e"
      },
      "execution_count": null,
      "outputs": [
        {
          "output_type": "stream",
          "name": "stdout",
          "text": [
            "都市名 =  神戸市\n",
            "気温 =  7.84\n",
            "天気 =  Clear\n",
            "天気詳細 =  晴天\n"
          ]
        }
      ]
    },
    {
      "cell_type": "code",
      "source": [
        "# Getting Current Turning Point: New York\n",
        "url = \"http://api.openweathermap.org/data/2.5/weather?q={city}&appid={key}&lang=ja&units=metric\"\n",
        "url = url.format(city=\"New York,US\", key=\"API keye\")\n",
        "\n",
        "jsondata = requests.get(url).json()\n",
        "print(\"都市名 = \", jsondata[\"name\"])\n",
        "print(\"気温 = \", jsondata[\"main\"][\"temp\"])\n",
        "print(\"天気 = \", jsondata[\"weather\"][0][\"main\"])\n",
        "print(\"天気詳細 = \", jsondata[\"weather\"][0][\"description\"])"
      ],
      "metadata": {
        "colab": {
          "base_uri": "https://localhost:8080/"
        },
        "id": "Yocu1qMl4EFx",
        "outputId": "d96d7293-de15-4d2c-96c6-fbb5373455d1"
      },
      "execution_count": null,
      "outputs": [
        {
          "output_type": "stream",
          "name": "stdout",
          "text": [
            "都市名 =  ニューヨーク\n",
            "気温 =  12.61\n",
            "天気 =  Clouds\n",
            "天気詳細 =  曇りがち\n"
          ]
        }
      ]
    },
    {
      "cell_type": "code",
      "source": [
        "# Get current turnaround: London\n",
        "url = \"http://api.openweathermap.org/data/2.5/weather?q={city}&appid={key}&lang=ja&units=metric\"\n",
        "url = url.format(city=\"London,UK\", key=\"API key\")\n",
        "\n",
        "jsondata = requests.get(url).json()\n",
        "print(\"都市名 = \", jsondata[\"name\"])\n",
        "print(\"気温 = \", jsondata[\"main\"][\"temp\"])\n",
        "print(\"天気 = \", jsondata[\"weather\"][0][\"main\"])\n",
        "print(\"天気詳細 = \", jsondata[\"weather\"][0][\"description\"])"
      ],
      "metadata": {
        "colab": {
          "base_uri": "https://localhost:8080/"
        },
        "id": "cx3tuom84P9t",
        "outputId": "50a5d798-6ccb-4fd0-cc89-b86f274fcb8f"
      },
      "execution_count": null,
      "outputs": [
        {
          "output_type": "stream",
          "name": "stdout",
          "text": [
            "都市名 =  London\n",
            "気温 =  8.14\n",
            "天気 =  Clouds\n",
            "天気詳細 =  雲\n"
          ]
        }
      ]
    },
    {
      "cell_type": "code",
      "source": [
        "# Get current weather: zip code 160-0006\n",
        "url = \"http://api.openweathermap.org/data/2.5/weather?zip={zipcode}&appid={key}&lang=ja&units=metric\"\n",
        "url = url.format(zipcode=\"160-0006,JP\", key=\"API key\")\n",
        "\n",
        "jsondata = requests.get(url).json()\n",
        "print(\"都市名 = \", jsondata[\"name\"])\n",
        "print(\"気温 = \", jsondata[\"main\"][\"temp\"])\n",
        "print(\"天気 = \", jsondata[\"weather\"][0][\"main\"])\n",
        "print(\"天気詳細 = \", jsondata[\"weather\"][0][\"description\"])"
      ],
      "metadata": {
        "colab": {
          "base_uri": "https://localhost:8080/"
        },
        "id": "dzGVDQL35mDg",
        "outputId": "58d32249-9bbc-4fd5-c27e-fd7c002bb856"
      },
      "execution_count": null,
      "outputs": [
        {
          "output_type": "stream",
          "name": "stdout",
          "text": [
            "都市名 =  Funamachi\n",
            "気温 =  12.53\n",
            "天気 =  Clouds\n",
            "天気詳細 =  曇りがち\n"
          ]
        }
      ]
    }
  ]
}